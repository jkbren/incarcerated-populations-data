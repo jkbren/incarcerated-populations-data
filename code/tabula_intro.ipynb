{
 "cells": [
  {
   "cell_type": "markdown",
   "metadata": {},
   "source": [
    "# Brief introduction to Tabula"
   ]
  },
  {
   "cell_type": "code",
   "execution_count": 1,
   "metadata": {},
   "outputs": [],
   "source": [
    "# for bread/butter python\n",
    "import numpy as np\n",
    "import pandas as pd\n",
    "\n",
    "# for getting pdf\n",
    "import tabula"
   ]
  },
  {
   "cell_type": "code",
   "execution_count": 2,
   "metadata": {},
   "outputs": [],
   "source": [
    "fn = '/Users/brennan/Downloads/(Apr 2016) DistRpt15-A_20160516.pdf'\n",
    "page = 5"
   ]
  },
  {
   "cell_type": "code",
   "execution_count": 3,
   "metadata": {},
   "outputs": [],
   "source": [
    "# dimensions of where you're trying to grab\n",
    "top = 45.0\n",
    "left = 24.0\n",
    "height = 401.85\n",
    "width = 500.0\n",
    "y1 = top\n",
    "x1 = left\n",
    "y2 = top + height\n",
    "x2 = left + width"
   ]
  },
  {
   "cell_type": "code",
   "execution_count": 4,
   "metadata": {},
   "outputs": [],
   "source": [
    "dfs = tabula.read_pdf(fn, pages=page, stream=True, guess=True,\n",
    "                      area=[y1, x1, y2, x2])"
   ]
  },
  {
   "cell_type": "code",
   "execution_count": 5,
   "metadata": {},
   "outputs": [],
   "source": [
    "df_i = dfs[0].copy()\n",
    "df_i = df_i.reset_index().T.reset_index().T.iloc[:,1:]\n",
    "df_i = df_i.reset_index().iloc[:,1:]\n",
    "for c in df_i.columns:\n",
    "    df_i.loc[df_i[c].isna(),c] = ''\n",
    "    df_i[c] = df_i[c].astype(str)\n",
    "# ##### this is not meaningful but v useful ######\n",
    "\n",
    "df_i['dat'] = df_i[list(df_i.columns)].agg(' '.join, axis=1)\n",
    "df_i = df_i[['dat']].copy()\n",
    "# df_i['dat'] = df_i['dat'].str.lower().str.replace(',','')\n",
    "# df_i['dat'] = df_i['dat'].astype(str)"
   ]
  },
  {
   "cell_type": "code",
   "execution_count": 6,
   "metadata": {},
   "outputs": [
    {
     "data": {
      "text/html": [
       "<div>\n",
       "<style scoped>\n",
       "    .dataframe tbody tr th:only-of-type {\n",
       "        vertical-align: middle;\n",
       "    }\n",
       "\n",
       "    .dataframe tbody tr th {\n",
       "        vertical-align: top;\n",
       "    }\n",
       "\n",
       "    .dataframe thead th {\n",
       "        text-align: right;\n",
       "    }\n",
       "</style>\n",
       "<table border=\"1\" class=\"dataframe\">\n",
       "  <thead>\n",
       "    <tr style=\"text-align: right;\">\n",
       "      <th></th>\n",
       "      <th>dat</th>\n",
       "    </tr>\n",
       "  </thead>\n",
       "  <tbody>\n",
       "    <tr>\n",
       "      <th>0</th>\n",
       "      <td>Unnamed: 0 4/30/2016 3/31/2016</td>\n",
       "    </tr>\n",
       "    <tr>\n",
       "      <th>1</th>\n",
       "      <td>Pool Balance $690,994,037.50 $696,233,722.23</td>\n",
       "    </tr>\n",
       "    <tr>\n",
       "      <th>2</th>\n",
       "      <td>Total # Loans 61,698 62,204</td>\n",
       "    </tr>\n",
       "    <tr>\n",
       "      <th>3</th>\n",
       "      <td>Total # Borrowers 40,144 40,440</td>\n",
       "    </tr>\n",
       "    <tr>\n",
       "      <th>4</th>\n",
       "      <td>Weighted Average Coupon 8.37% 8.38%</td>\n",
       "    </tr>\n",
       "  </tbody>\n",
       "</table>\n",
       "</div>"
      ],
      "text/plain": [
       "                                            dat\n",
       "0                Unnamed: 0 4/30/2016 3/31/2016\n",
       "1  Pool Balance $690,994,037.50 $696,233,722.23\n",
       "2                   Total # Loans 61,698 62,204\n",
       "3               Total # Borrowers 40,144 40,440\n",
       "4           Weighted Average Coupon 8.37% 8.38%"
      ]
     },
     "execution_count": 6,
     "metadata": {},
     "output_type": "execute_result"
    }
   ],
   "source": [
    "df_i.head()\n",
    "# then it's just some maneuvering to get it all sorted out"
   ]
  },
  {
   "cell_type": "markdown",
   "metadata": {},
   "source": [
    "If you have a bunch of files in a single folder that you wanna span thru, make a list of all the file names"
   ]
  },
  {
   "cell_type": "code",
   "execution_count": 7,
   "metadata": {},
   "outputs": [],
   "source": [
    "import os\n",
    "def findFilesInFolder(path, pathList, extension, subFolders = True):\n",
    "    \"\"\"  \n",
    "    Recursive function to find all files of an extension type in a \n",
    "    folder (and optionally in all subfolders too)\n",
    "\n",
    "    path:        Base directory to find files\n",
    "    pathList:    A list that stores all paths\n",
    "    extension:   File extension to find\n",
    "    subFolders:  Bool.  If True, find files in all subfolders under path. \n",
    "                 If False, only searches files in the specified folder\n",
    "    \"\"\"\n",
    "\n",
    "    try:   # Trapping a OSError:  File permissions problem I believe\n",
    "        for entry in os.scandir(path):\n",
    "            if entry.is_file() and entry.path.endswith(extension):\n",
    "                pathList.append(entry.path)\n",
    "            elif entry.is_dir() and subFolders:   # if its a directory, then repeat process as a nested function\n",
    "                pathList = findFilesInFolder(entry.path, pathList, extension, subFolders)\n",
    "    except OSError:\n",
    "        print('Cannot access ' + path +'. Probably a permissions error')\n",
    "\n",
    "    return pathList"
   ]
  },
  {
   "cell_type": "code",
   "execution_count": null,
   "metadata": {},
   "outputs": [],
   "source": [
    "base_url = '/Users/brennan/Downloads/'\n",
    "extension = '.pdf'\n",
    "pathList = []\n",
    "flist = findFilesInFolder(base_url, pathList, extension, True)\n",
    "flist = sorted(flist,reverse=True)"
   ]
  },
  {
   "cell_type": "code",
   "execution_count": null,
   "metadata": {},
   "outputs": [],
   "source": []
  },
  {
   "cell_type": "code",
   "execution_count": null,
   "metadata": {},
   "outputs": [],
   "source": []
  }
 ],
 "metadata": {
  "kernelspec": {
   "display_name": "Python 3",
   "language": "python",
   "name": "python3"
  },
  "language_info": {
   "codemirror_mode": {
    "name": "ipython",
    "version": 3
   },
   "file_extension": ".py",
   "mimetype": "text/x-python",
   "name": "python",
   "nbconvert_exporter": "python",
   "pygments_lexer": "ipython3",
   "version": "3.8.5"
  }
 },
 "nbformat": 4,
 "nbformat_minor": 4
}
